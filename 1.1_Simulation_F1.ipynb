{
 "cells": [
  {
   "cell_type": "markdown",
   "metadata": {
    "id": "xibIlHjodrep"
   },
   "source": [
    "# <center><font color= blue>Homework 01 - Due Feb 14 </font></center>\n",
    "## <font color= blue>CPSC8430 - Deep Learning </font>\n",
    "##  <font color= blue>Sadegh Sadeghi Tabas</font> \n",
    "###  <font color= red>Implementation of DNNs for a non-linear single input-output function</font> \n",
    "***"
   ]
  },
  {
   "cell_type": "markdown",
   "metadata": {
    "id": "mJMPcLFvdrer"
   },
   "source": [
    "### Part 1: Deep vs Shallow"
   ]
  },
  {
   "cell_type": "markdown",
   "metadata": {
    "id": "UT9K_YxVdres"
   },
   "source": [
    "__a)__ Simulate a non-linnear function with single input and output.\n",
    "In this homework, first I chose a non-linear function with single input and output. Then the selected function trained with three different DNNs with 500 data points."
   ]
  },
  {
   "cell_type": "markdown",
   "metadata": {
    "id": "LSFJ7MLndret"
   },
   "source": [
    "First we are going to train three different models with same number of parameters (3607). The models training process will stops once the  number of epochs reaches the predifined value (500 epochs).\n"
   ]
  },
  {
   "cell_type": "code",
   "execution_count": 1,
   "metadata": {
    "colab": {
     "base_uri": "https://localhost:8080/"
    },
    "id": "yP1gmo20eMVO",
    "outputId": "a9d4c3fa-e3b9-4392-be31-549318537192"
   },
   "outputs": [
    {
     "name": "stdout",
     "output_type": "stream",
     "text": [
      "TensorFlow 1.x selected.\n"
     ]
    }
   ],
   "source": [
    "%tensorflow_version 1.x"
   ]
  },
  {
   "cell_type": "markdown",
   "metadata": {
    "id": "KB0oVw0Rdreu"
   },
   "source": [
    "#### <font color= green> import required libraries"
   ]
  },
  {
   "cell_type": "code",
   "execution_count": 2,
   "metadata": {
    "id": "S9ZTXq6odreu"
   },
   "outputs": [],
   "source": [
    "import tensorflow as tf\n",
    "import matplotlib.pyplot as plt\n",
    "import numpy as np\n",
    "from math import sin, cos, pi"
   ]
  },
  {
   "cell_type": "code",
   "execution_count": 3,
   "metadata": {
    "colab": {
     "base_uri": "https://localhost:8080/"
    },
    "id": "Z-XM0-UDfYWG",
    "outputId": "5d62259a-ac32-40ff-f893-fd7aa63b355e"
   },
   "outputs": [
    {
     "name": "stdout",
     "output_type": "stream",
     "text": [
      "Found GPU at: /device:GPU:0\n"
     ]
    }
   ],
   "source": [
    "device_name = tf.test.gpu_device_name()\n",
    "if device_name != '/device:GPU:0':\n",
    "  raise SystemError('GPU device not found')\n",
    "print('Found GPU at: {}'.format(device_name))"
   ]
  },
  {
   "cell_type": "markdown",
   "metadata": {
    "id": "yvrUL7jjdrev"
   },
   "source": [
    "#### <font color= green> Please check out the libraries veirsion that are compatible with this code"
   ]
  },
  {
   "cell_type": "code",
   "execution_count": 4,
   "metadata": {
    "colab": {
     "base_uri": "https://localhost:8080/"
    },
    "id": "X_mjHcyXdrev",
    "outputId": "bd6b0407-60f9-4e27-80d2-8f68fcf6d452"
   },
   "outputs": [
    {
     "name": "stdout",
     "output_type": "stream",
     "text": [
      "trnsorflow version= 1.15.2\n",
      "numpy version= 1.19.5\n"
     ]
    }
   ],
   "source": [
    "print(\"trnsorflow version=\",tf.__version__)\n",
    "print(\"numpy version=\",np.__version__)"
   ]
  },
  {
   "cell_type": "markdown",
   "metadata": {
    "id": "Blj_EJpgdrev"
   },
   "source": [
    "####  <font color= green> Here we are going to set random seed to have reproducible results"
   ]
  },
  {
   "cell_type": "code",
   "execution_count": 5,
   "metadata": {
    "id": "zCOTPLWPdrew"
   },
   "outputs": [],
   "source": [
    "tf.set_random_seed(1)\n",
    "np.random.seed(1)"
   ]
  },
  {
   "cell_type": "markdown",
   "metadata": {
    "id": "Xzlvidvodrew"
   },
   "source": [
    "####  <font color= green> Data prepration: in this step I'm going to generate and plot x and y datasets based on nonlinear functions I selected."
   ]
  },
  {
   "cell_type": "code",
   "execution_count": 6,
   "metadata": {
    "colab": {
     "base_uri": "https://localhost:8080/",
     "height": 279
    },
    "id": "kCQyK0yfdrew",
    "outputId": "a68e202a-ba5c-4a68-dbbb-03f0257b09ee"
   },
   "outputs": [
    {
     "data": {
      "image/png": "[encoded data removed]",
      "text/plain": [
       "<Figure size 432x288 with 1 Axes>"
      ]
     },
     "metadata": {
      "needs_background": "light",
      "tags": []
     },
     "output_type": "display_data"
    }
   ],
   "source": [
    "numSamples = 500\n",
    "x = np.linspace(-1, 1, numSamples)[:, np.newaxis]    # shape (numSamples, 1)\n",
    "y = np.abs((np.sin(2 * x * np.pi))/(2 * x * np.pi))\n",
    "#y2 = (np.cos(x * np.pi))\n",
    "\n",
    "plt.plot(x,y,'r', label = 'func 1')\n",
    "#plt.plot(x,y2, 'b', label = 'func 2')\n",
    "plt.xlabel(\"x\")\n",
    "plt.ylabel(\"y\")\n",
    "plt.legend()\n",
    "plt.show()"
   ]
  },
  {
   "cell_type": "markdown",
   "metadata": {
    "id": "UWRHK8Vodrex"
   },
   "source": [
    "#### <font color= green> Function to count the number of parameters in each model"
   ]
  },
  {
   "cell_type": "code",
   "execution_count": 7,
   "metadata": {
    "id": "MSj_E_PLdrex"
   },
   "outputs": [],
   "source": [
    "def parametersNum():\n",
    "    NumPar = 0\n",
    "    for var in tf.trainable_variables():\n",
    "        shape = var.get_shape()\n",
    "        varParameter = 1\n",
    "        for dim in shape:\n",
    "            varParameter *= dim.value\n",
    "            NumPar += varParameter\n",
    "    return(NumPar)"
   ]
  },
  {
   "cell_type": "markdown",
   "metadata": {
    "id": "1H5U8ZqVdrex"
   },
   "source": [
    "#### <font color= green> Now we are going to create __Place Holders__ for input and output of each model"
   ]
  },
  {
   "cell_type": "code",
   "execution_count": 8,
   "metadata": {
    "id": "FG84uXztdrey"
   },
   "outputs": [],
   "source": [
    "# Model 1 \n",
    "x_m1 = tf.placeholder(tf.float32, [None, 1])\n",
    "y_m1 = tf.placeholder(tf.float32, [None, 1])\n",
    "\n",
    "# Model 2\n",
    "x_m2 = tf.placeholder(tf.float32, [None, 1])\n",
    "y_m2 = tf.placeholder(tf.float32, [None, 1])\n",
    "\n",
    "# Model 3\n",
    "x_m3 = tf.placeholder(tf.float32, [None, 1])\n",
    "y_m3 = tf.placeholder(tf.float32, [None, 1])\n",
    "\n",
    "# Keep probability \n",
    "keep_prob = tf.placeholder(tf.float32)"
   ]
  },
  {
   "cell_type": "markdown",
   "metadata": {
    "id": "pINPnvk_drey"
   },
   "source": [
    "### <font color= blue> In the steps below we want to define different models and their relevant layers"
   ]
  },
  {
   "cell_type": "markdown",
   "metadata": {
    "id": "au4UOsU7drez"
   },
   "source": [
    "### <font color= red> Define Model 1"
   ]
  },
  {
   "cell_type": "markdown",
   "metadata": {
    "id": "3zwsh5LJdrez"
   },
   "source": [
    "#### <font color= green> Defining Model layers"
   ]
  },
  {
   "cell_type": "code",
   "execution_count": 9,
   "metadata": {
    "colab": {
     "base_uri": "https://localhost:8080/"
    },
    "id": "t5U2_z3mdrez",
    "outputId": "8aaeb69c-14e0-428d-da94-04b574082347"
   },
   "outputs": [
    {
     "name": "stdout",
     "output_type": "stream",
     "text": [
      "WARNING:tensorflow:From <ipython-input-9-8a46c86782d0>:1: dense (from tensorflow.python.layers.core) is deprecated and will be removed in a future version.\n",
      "Instructions for updating:\n",
      "Use keras.layers.Dense instead.\n",
      "WARNING:tensorflow:From /tensorflow-1.15.2/python3.6/tensorflow_core/python/layers/core.py:187: Layer.apply (from tensorflow.python.keras.engine.base_layer) is deprecated and will be removed in a future version.\n",
      "Instructions for updating:\n",
      "Please use `layer.__call__` method instead.\n",
      "WARNING:tensorflow:From <ipython-input-9-8a46c86782d0>:2: dropout (from tensorflow.python.layers.core) is deprecated and will be removed in a future version.\n",
      "Instructions for updating:\n",
      "Use keras.layers.dropout instead.\n",
      "Number of parameters of Model 1: 3607\n"
     ]
    }
   ],
   "source": [
    "h1_m1 = tf.layers.dense(x_m1, units=150, activation=tf.nn.relu, name='h1_m1')\n",
    "dropout_h1_m1 = tf.layers.dropout(h1_m1, 0.5)\n",
    "\n",
    "h2_m1 = tf.layers.dense(dropout_h1_m1, units=20, activation=tf.nn.relu, name='h2_m1')\n",
    "dropout_h2_m1 = tf.layers.dropout(h2_m1, 0.5)\n",
    "\n",
    "h3_m1 = tf.layers.dense(dropout_h2_m1, units=5, activation=tf.nn.relu, name='h3_m1')\n",
    "\n",
    "out_m1 = tf.layers.dense(h3_m1, units=1, name='out_m1')\n",
    "\n",
    "params_m1 = parametersNum()\n",
    "print(\"Number of parameters of Model 1:\" , params_m1)"
   ]
  },
  {
   "cell_type": "markdown",
   "metadata": {
    "id": "UIRCL09Ldre0"
   },
   "source": [
    "#### <font color= green> Defining Model Loss Method"
   ]
  },
  {
   "cell_type": "code",
   "execution_count": 10,
   "metadata": {
    "colab": {
     "base_uri": "https://localhost:8080/"
    },
    "id": "Fo-4ReVadre0",
    "outputId": "20e8c71b-5bc8-4394-d91f-2fbc3c4e611f"
   },
   "outputs": [
    {
     "name": "stdout",
     "output_type": "stream",
     "text": [
      "WARNING:tensorflow:From /tensorflow-1.15.2/python3.6/tensorflow_core/python/ops/losses/losses_impl.py:121: where (from tensorflow.python.ops.array_ops) is deprecated and will be removed in a future version.\n",
      "Instructions for updating:\n",
      "Use tf.where in 2.0, which has the same broadcast rule as np.where\n"
     ]
    }
   ],
   "source": [
    "loss_m1 = tf.losses.mean_squared_error(y_m1, out_m1)"
   ]
  },
  {
   "cell_type": "markdown",
   "metadata": {
    "id": "xnRdV5ppdre0"
   },
   "source": [
    "#### <font color= green> Defining Model Optimization Method"
   ]
  },
  {
   "cell_type": "code",
   "execution_count": 11,
   "metadata": {
    "id": "0SDq8EA9dre1"
   },
   "outputs": [],
   "source": [
    "GDO_m1 = tf.train.GradientDescentOptimizer(learning_rate=0.01)\n",
    "grads_m1 = GDO_m1.compute_gradients(loss_m1)\n",
    "opt_m1 = GDO_m1.apply_gradients(grads_m1)"
   ]
  },
  {
   "cell_type": "markdown",
   "metadata": {
    "id": "dnvMYfVpdre1"
   },
   "source": [
    "#### <font color= green> Getting Weights Func"
   ]
  },
  {
   "cell_type": "code",
   "execution_count": 12,
   "metadata": {
    "id": "59eCuA4pdre1"
   },
   "outputs": [],
   "source": [
    "def get_weights(layer_name):\n",
    "    with tf.variable_scope(layer_name, reuse=True):\n",
    "        variable = tf.get_variable('kernel')\n",
    "    return variable"
   ]
  },
  {
   "cell_type": "markdown",
   "metadata": {
    "id": "BxL27zWwdre2"
   },
   "source": [
    "#### <font color= green> Getting Weights"
   ]
  },
  {
   "cell_type": "code",
   "execution_count": 13,
   "metadata": {
    "colab": {
     "base_uri": "https://localhost:8080/"
    },
    "id": "lF9z2n9edre2",
    "outputId": "9c33b8ea-db8e-4223-fd3c-f1604822d595"
   },
   "outputs": [
    {
     "name": "stdout",
     "output_type": "stream",
     "text": [
      "<tf.Variable 'h1_m1/kernel:0' shape=(1, 150) dtype=float32_ref>\n",
      "<tf.Variable 'h2_m1/kernel:0' shape=(150, 20) dtype=float32_ref>\n",
      "<tf.Variable 'h3_m1/kernel:0' shape=(20, 5) dtype=float32_ref>\n",
      "<tf.Variable 'out_m1/kernel:0' shape=(5, 1) dtype=float32_ref>\n"
     ]
    }
   ],
   "source": [
    "weights_m1_fc1 = get_weights(layer_name='h1_m1')\n",
    "weights_m1_fc2 = get_weights(layer_name='h2_m1')\n",
    "weights_m1_fc3 = get_weights(layer_name='h3_m1')\n",
    "weights_m1_fc4 = get_weights(layer_name='out_m1')\n",
    "\n",
    "print(weights_m1_fc1)\n",
    "print(weights_m1_fc2)\n",
    "print(weights_m1_fc3)\n",
    "print(weights_m1_fc4)"
   ]
  },
  {
   "cell_type": "markdown",
   "metadata": {
    "id": "xdY3DdhJdre2"
   },
   "source": [
    "### <font color= red> Define Model 2"
   ]
  },
  {
   "cell_type": "markdown",
   "metadata": {
    "id": "ROXWJ1ghdre3"
   },
   "source": [
    "#### <font color= green> Defining Model layers"
   ]
  },
  {
   "cell_type": "code",
   "execution_count": 14,
   "metadata": {
    "colab": {
     "base_uri": "https://localhost:8080/"
    },
    "id": "WgmhkChwdre3",
    "outputId": "7ddf22d7-e38b-4ccd-cf0e-8de46de61a79"
   },
   "outputs": [
    {
     "name": "stdout",
     "output_type": "stream",
     "text": [
      "3607\n"
     ]
    }
   ],
   "source": [
    "h1_m2 = tf.layers.dense(x_m2, units=15, activation=tf.nn.relu, name='h1_m2')\n",
    "\n",
    "h2_m2 = tf.layers.dense(h1_m2, units=20, activation=tf.nn.relu, name='h2_m2')\n",
    "dropout_h2_m2 = tf.layers.dropout(h2_m2, 0.5)\n",
    "\n",
    "h3_m2 = tf.layers.dense(dropout_h2_m2, units=25, activation=tf.nn.relu, name='h3_m2')\n",
    "dropout_h3_m2 = tf.layers.dropout(h3_m2, 0.5)\n",
    "\n",
    "h4_m2 = tf.layers.dense(dropout_h3_m2, units=40, activation=tf.nn.relu, name='h4_m2')\n",
    "dropout_h4_m2 = tf.layers.dropout(h4_m2, 0.5)\n",
    "\n",
    "h5_m2 = tf.layers.dense(dropout_h4_m2, units=29, activation=tf.nn.relu, name='h5_m2')\n",
    "\n",
    "h6_m2 = tf.layers.dense(h5_m2, units=10, activation=tf.nn.relu, name='h6_m2')\n",
    "\n",
    "h7_m2 = tf.layers.dense(h6_m2, units=4, activation=tf.nn.relu, name='h7_m2')\n",
    "\n",
    "h8_m2 = tf.layers.dense(h7_m2, units=2, activation=tf.nn.relu, name='h8_m2')\n",
    "\n",
    "out_m2 = tf.layers.dense(h8_m2, units=1, name='out_m2')\n",
    "\n",
    "params_m2 = parametersNum() - params_m1\n",
    "print(params_m2)"
   ]
  },
  {
   "cell_type": "markdown",
   "metadata": {
    "id": "uUyXBed1dre3"
   },
   "source": [
    "#### <font color= green> Defining Model Loss Method"
   ]
  },
  {
   "cell_type": "code",
   "execution_count": 15,
   "metadata": {
    "id": "fLw7veVedre4"
   },
   "outputs": [],
   "source": [
    "loss_m2 = tf.losses.mean_squared_error(y_m2, out_m2)"
   ]
  },
  {
   "cell_type": "markdown",
   "metadata": {
    "id": "YGVghXg6dre4"
   },
   "source": [
    "#### <font color= green> Defining Model Optimization Method"
   ]
  },
  {
   "cell_type": "code",
   "execution_count": 16,
   "metadata": {
    "id": "0dDhmirXdre4"
   },
   "outputs": [],
   "source": [
    "GDO_m2 = tf.train.GradientDescentOptimizer(learning_rate=0.055)\n",
    "opt_m2 = GDO_m2.minimize(loss_m2)"
   ]
  },
  {
   "cell_type": "markdown",
   "metadata": {
    "id": "999IIyEwdre4"
   },
   "source": [
    "### <font color= red> Define Model 3"
   ]
  },
  {
   "cell_type": "markdown",
   "metadata": {
    "id": "ru2lWXGhdre5"
   },
   "source": [
    "#### <font color= green> Defining Model layers"
   ]
  },
  {
   "cell_type": "code",
   "execution_count": 17,
   "metadata": {
    "colab": {
     "base_uri": "https://localhost:8080/"
    },
    "id": "96nTvneadre5",
    "outputId": "fcc0b15c-fbee-4440-8ad4-cd4bc910c30d"
   },
   "outputs": [
    {
     "name": "stdout",
     "output_type": "stream",
     "text": [
      "3606\n"
     ]
    }
   ],
   "source": [
    "h1_m3 = tf.layers.dense(x_m3, units=50, activation=tf.nn.relu, name='h1_m3')\n",
    "dropout_h1_m3 = tf.layers.dropout(h1_m3, 0.5)\n",
    "\n",
    "h2_m3 = tf.layers.dense(dropout_h1_m3, units=45, activation=tf.nn.relu, name='h2_m3')\n",
    "\n",
    "h3_m3 = tf.layers.dense(h2_m3, units=15, activation=tf.nn.relu, name='h3_m3')\n",
    "\n",
    "h4_m3 = tf.layers.dense(h3_m3, units=12, activation=tf.nn.relu, name='h4_m3')\n",
    "dropout_h4_m3 = tf.layers.dropout(h4_m3, 0.5)\n",
    "\n",
    "h5_m3 = tf.layers.dense(dropout_h4_m3, units=10, activation=tf.nn.relu, name='h5_m3')\n",
    "\n",
    "h6_m3 = tf.layers.dense(h5_m3, units=5, activation=tf.nn.relu, name='h6_m3')\n",
    "\n",
    "out_m3 = tf.layers.dense(h6_m3, units=1, name='out_m3')\n",
    "\n",
    "\n",
    "params_m3 = parametersNum() - params_m1 - params_m2\n",
    "print(params_m3)"
   ]
  },
  {
   "cell_type": "markdown",
   "metadata": {
    "id": "jdtW3xNXdre5"
   },
   "source": [
    "#### <font color= green> Defining Model Loss Method"
   ]
  },
  {
   "cell_type": "code",
   "execution_count": 18,
   "metadata": {
    "id": "pq48u2qVdre6"
   },
   "outputs": [],
   "source": [
    "loss_m3 = tf.losses.mean_squared_error(y_m3, out_m3)"
   ]
  },
  {
   "cell_type": "markdown",
   "metadata": {
    "id": "6bPcHMeodre6"
   },
   "source": [
    "#### <font color= green> Defining Model Optimization Method"
   ]
  },
  {
   "cell_type": "code",
   "execution_count": 19,
   "metadata": {
    "id": "nL9q819Fdre6"
   },
   "outputs": [],
   "source": [
    "GDO_m3 = tf.train.GradientDescentOptimizer(learning_rate=0.0004)\n",
    "opt_m3 = GDO_m3.minimize(loss_m3)"
   ]
  },
  {
   "cell_type": "markdown",
   "metadata": {
    "id": "XIEune2Rdre7"
   },
   "source": [
    "### <font color= blue> In the steps below we want to train different models and compute XXX for the model 1"
   ]
  },
  {
   "cell_type": "markdown",
   "metadata": {
    "id": "GB1FJkozdre7"
   },
   "source": [
    "#### <font color= green> Begining TensorFlow Session\n"
   ]
  },
  {
   "cell_type": "code",
   "execution_count": 20,
   "metadata": {
    "id": "OtovoNb9dre7"
   },
   "outputs": [],
   "source": [
    "sess = tf.Session()"
   ]
  },
  {
   "cell_type": "markdown",
   "metadata": {
    "id": "Fj3Ux5GDdre7"
   },
   "source": [
    "#### <font color= green>Initializing variables"
   ]
  },
  {
   "cell_type": "code",
   "execution_count": 21,
   "metadata": {
    "id": "H3B5AXCpdre8"
   },
   "outputs": [],
   "source": [
    "sess.run(tf.global_variables_initializer())"
   ]
  },
  {
   "cell_type": "markdown",
   "metadata": {
    "id": "-yClUWqVdre8"
   },
   "source": [
    "#### <font color= green> Getting Gradients"
   ]
  },
  {
   "cell_type": "code",
   "execution_count": 22,
   "metadata": {
    "colab": {
     "base_uri": "https://localhost:8080/"
    },
    "id": "SnkV0gf2dre8",
    "outputId": "c74d4151-c5cd-45bb-8a8c-9bbcc2dbc26a"
   },
   "outputs": [
    {
     "name": "stdout",
     "output_type": "stream",
     "text": [
      "Tensor(\"gradients_3/out_m1/MatMul_grad/MatMul_1:0\", shape=(5, 1), dtype=float32)\n"
     ]
    }
   ],
   "source": [
    "grads = tf.gradients(loss_m1, weights_m1_fc4)[0]\n",
    "print(grads)"
   ]
  },
  {
   "cell_type": "markdown",
   "metadata": {
    "id": "-kTui6R9dre8"
   },
   "source": [
    "#### <font color= green> Function to calculate grad norm"
   ]
  },
  {
   "cell_type": "code",
   "execution_count": 23,
   "metadata": {
    "id": "XXe6b2V_dre9"
   },
   "outputs": [],
   "source": [
    "def calcGradNorm(gradsValues):\n",
    "    grad_all = 0.0\n",
    "    for gv in gradsValues:\n",
    "        grad_all += sum(gv**2)\n",
    "    \n",
    "    grad_norm = grad_all ** 0.5\n",
    "    return grad_norm"
   ]
  },
  {
   "cell_type": "markdown",
   "metadata": {
    "id": "XLyZFMZSdre9"
   },
   "source": [
    "#### <font color= green> Computing Hessian"
   ]
  },
  {
   "cell_type": "code",
   "execution_count": 24,
   "metadata": {
    "colab": {
     "base_uri": "https://localhost:8080/"
    },
    "id": "ucEqEnkedre9",
    "outputId": "34f3f60a-157d-4812-948e-796de253aaca"
   },
   "outputs": [
    {
     "name": "stdout",
     "output_type": "stream",
     "text": [
      "Tensor(\"Sum:0\", shape=(5, 1, 1), dtype=float32)\n"
     ]
    }
   ],
   "source": [
    "hessian = tf.reduce_sum(tf.hessians(loss_m1, weights_m1_fc4)[0], axis = 2)\n",
    "print(hessian)"
   ]
  },
  {
   "cell_type": "markdown",
   "metadata": {
    "id": "MV6wIhb_dre9"
   },
   "source": [
    "### <font color= blue> Models Training"
   ]
  },
  {
   "cell_type": "code",
   "execution_count": 25,
   "metadata": {
    "id": "UXD9B2spdre9"
   },
   "outputs": [],
   "source": [
    "epoch_arr, loss_arr_m1, loss_arr_m2, loss_arr_m3 = [], [], [], [] \n",
    "max_epochs = 500"
   ]
  },
  {
   "cell_type": "markdown",
   "metadata": {
    "id": "yeSZpQ4Kdre-"
   },
   "source": [
    "### <font color= red> Train Model 1"
   ]
  },
  {
   "cell_type": "markdown",
   "metadata": {
    "id": "Sz8Ea6Hrdre-"
   },
   "source": [
    "#### <font color= green> Initialization"
   ]
  },
  {
   "cell_type": "code",
   "execution_count": 26,
   "metadata": {
    "id": "ZI_tkn68dre-"
   },
   "outputs": [],
   "source": [
    "epoch_m1 = 0\n",
    "iteration_ctr = 0\n",
    "epoch_arr_m1, grad_arr_m1, iteration_arr, loss_itr_arr = [], [], [], []\n",
    "m1_convergence = False\n",
    "n = 5 # every n steps we calculate the gradients and hessian "
   ]
  },
  {
   "cell_type": "code",
   "execution_count": 27,
   "metadata": {
    "colab": {
     "base_uri": "https://localhost:8080/"
    },
    "id": "jRkwsR0wdre-",
    "outputId": "4182d461-7197-4e66-ba84-4dd439776eab"
   },
   "outputs": [
    {
     "name": "stdout",
     "output_type": "stream",
     "text": [
      "Epoch: 50/500,  Loss Model 1: 0.0022822588216513395\n",
      "Epoch: 100/500,  Loss Model 1: 0.0014464627020061016\n",
      "Epoch: 150/500,  Loss Model 1: 0.0003302130207885057\n",
      "Model Converged: Loss difference in the last three epochs is less than 1.0e-05\n",
      "\n",
      "Model Training completed\n",
      "\n",
      "Epoch: 157/500,  Loss Model 1: 0.00025482484488748014\n"
     ]
    }
   ],
   "source": [
    "while not m1_convergence:\n",
    "    epoch_m1 +=1\n",
    "    \n",
    "    # Train the model    \n",
    "    for i in range(numSamples): \n",
    "        _, l_m1, pred_m1 = sess.run([opt_m1, loss_m1, out_m1], feed_dict={x_m1: x, y_m1: y, keep_prob: 0.5})\n",
    "\n",
    "    # Calculating gradients and hessian\n",
    "        if i % n == 0:\n",
    "            global iteration_ctr\n",
    "            iteration_ctr +=1\n",
    "            iteration_arr.append(iteration_ctr)\n",
    "      \n",
    "            grads_values, hess_values = sess.run([grads, hessian], feed_dict={x_m1: x, y_m1: y})\n",
    "\n",
    "            # Calculate gradient norm\n",
    "            grad_arr_m1.append(calcGradNorm(grads_values))\n",
    "            \n",
    "            # Calculate loss\n",
    "            loss_itr_arr.append(l_m1)\n",
    "  \n",
    "    # Store epoch and loss\n",
    "    epoch_arr_m1.append(epoch_m1)\n",
    "    loss_arr_m1.append(l_m1)\n",
    "\n",
    "    # Print epoch and loss \n",
    "    if epoch_m1 % 50 == 0:\n",
    "        print('Epoch: {}/{},  Loss Model 1: {}'.format(epoch_m1, max_epochs, l_m1))\n",
    "\n",
    "    # Convergence conditions\n",
    "    if epoch_m1 >= max_epochs:\n",
    "        m1_convergence = True\n",
    "        print('Model Coverged: Max epochs reached')\n",
    "\n",
    "    if (epoch_m1 > 10) and (loss_arr_m1[-1] < 0.001):\n",
    "        if (abs(loss_arr_m1[-1] - loss_arr_m1[-2]) < 1.0e-05) and (abs(loss_arr_m1[-2] - loss_arr_m1[-3]) < 1.0e-05):\n",
    "            m1_convergence = True\n",
    "            print('Model Converged: Loss difference in the last three epochs is less than 1.0e-05')\n",
    "\n",
    "print('\\nModel Training completed\\n')\n",
    "print('Epoch: {}/{},  Loss Model 1: {}'.format(epoch_m1, max_epochs, l_m1))"
   ]
  },
  {
   "cell_type": "markdown",
   "metadata": {
    "id": "ODTDPBqedre_"
   },
   "source": [
    "### <font color= red> Train Model 2"
   ]
  },
  {
   "cell_type": "code",
   "execution_count": 28,
   "metadata": {
    "id": "pCB7H3tjdre_"
   },
   "outputs": [],
   "source": [
    "epoch_m2 = 0\n",
    "epoch_arr_m2 = []\n",
    "m2_convergence = False"
   ]
  },
  {
   "cell_type": "code",
   "execution_count": 29,
   "metadata": {
    "colab": {
     "base_uri": "https://localhost:8080/"
    },
    "id": "0Sw2gjmbdre_",
    "outputId": "6483eee8-8fdb-48a5-dc8a-cdd677859a8c"
   },
   "outputs": [
    {
     "name": "stdout",
     "output_type": "stream",
     "text": [
      "Model Converged: Loss difference in the last three epochs is less than 1.0e-05\n",
      "\n",
      "Model Training completed\n",
      "\n",
      "Epoch: 33/500,  Loss Model 2: 0.000138845804031007\n"
     ]
    }
   ],
   "source": [
    "while not m2_convergence:\n",
    "    epoch_m2 +=1\n",
    "    \n",
    "    # Train the model\n",
    "    for i in range(numSamples):\n",
    "        _, l_m2, pred_m2 = sess.run([opt_m2, loss_m2, out_m2], feed_dict={x_m2: x, y_m2: y, keep_prob: 0.5})\n",
    "  \n",
    "    # Store epoch and loss\n",
    "    epoch_arr_m2.append(epoch_m2)\n",
    "    loss_arr_m2.append(l_m2)\n",
    "\n",
    "    # Print epoch and loss \n",
    "    if epoch_m2 % 50 == 0:\n",
    "        print('Epoch: {}/{},  Loss Model 2: {}'.format(epoch_m2, max_epochs, l_m2))\n",
    "\n",
    "    # Convergence conditions\n",
    "    if epoch_m2 >= max_epochs:\n",
    "        m2_convergence = True\n",
    "        print('Model Coverged: Max epochs reached')\n",
    "\n",
    "    if (epoch_m2 > 5) and (loss_arr_m2[-1] < 0.001):\n",
    "        if (abs(loss_arr_m2[-1] - loss_arr_m2[-2]) < 1.0e-05) and (abs(loss_arr_m2[-2] - loss_arr_m2[-3]) < 1.0e-05):\n",
    "            m2_convergence = True\n",
    "            print('Model Converged: Loss difference in the last three epochs is less than 1.0e-05')\n",
    "\n",
    "print('\\nModel Training completed\\n')\n",
    "print('Epoch: {}/{},  Loss Model 2: {}'.format(epoch_m2, max_epochs, l_m2))"
   ]
  },
  {
   "cell_type": "markdown",
   "metadata": {
    "id": "kePTMdiHdre_"
   },
   "source": [
    "### <font color= red> Train Model 3"
   ]
  },
  {
   "cell_type": "code",
   "execution_count": 30,
   "metadata": {
    "id": "N0a9yTJkdrfA"
   },
   "outputs": [],
   "source": [
    "epoch_m3 = 0\n",
    "epoch_arr_m3 = []\n",
    "\n",
    "m3_convergence = False"
   ]
  },
  {
   "cell_type": "code",
   "execution_count": 31,
   "metadata": {
    "colab": {
     "base_uri": "https://localhost:8080/"
    },
    "id": "q616VyB_drfA",
    "outputId": "0d678253-8727-4892-8544-08ffa38815c5"
   },
   "outputs": [
    {
     "name": "stdout",
     "output_type": "stream",
     "text": [
      "Epoch: 50/500,  Loss Model 3: 0.0039000255055725574\n",
      "Epoch: 100/500,  Loss Model 3: 0.003282777266576886\n",
      "Epoch: 150/500,  Loss Model 3: 0.003043434349820018\n",
      "Epoch: 200/500,  Loss Model 3: 0.00288894260302186\n",
      "Epoch: 250/500,  Loss Model 3: 0.0027821576222777367\n",
      "Epoch: 300/500,  Loss Model 3: 0.002707097679376602\n",
      "Epoch: 350/500,  Loss Model 3: 0.0026502739638090134\n",
      "Epoch: 400/500,  Loss Model 3: 0.0026033667381852865\n",
      "Epoch: 450/500,  Loss Model 3: 0.0025628942530602217\n",
      "Epoch: 500/500,  Loss Model 3: 0.002526496537029743\n",
      "Model Coverged: Max epochs reached\n",
      "\n",
      "Model Training completed\n",
      "\n",
      "Epoch: 500/500,  Loss Model 3: 0.002526496537029743\n"
     ]
    }
   ],
   "source": [
    "\n",
    "while not m3_convergence:\n",
    "    epoch_m3 +=1\n",
    "    \n",
    "    # Train the model\n",
    "    for i in range(numSamples):\n",
    "        _, l_m3, pred_m3 = sess.run([opt_m3, loss_m3, out_m3], feed_dict={x_m3: x, y_m3: y, keep_prob: 0.5})\n",
    "  \n",
    "    # Store epoch and loss\n",
    "    epoch_arr_m3.append(epoch_m3)\n",
    "    loss_arr_m3.append(l_m3)\n",
    "\n",
    "    # Print epoch and loss \n",
    "    if epoch_m3 % 50 == 0:\n",
    "        print('Epoch: {}/{},  Loss Model 3: {}'.format(epoch_m3, max_epochs, l_m3))\n",
    "\n",
    "    # Convergence conditions\n",
    "    if epoch_m3 >= max_epochs:\n",
    "        m3_convergence = True\n",
    "        print('Model Coverged: Max epochs reached')\n",
    "\n",
    "    if (epoch_m3 > 5) and (loss_arr_m3[-1] < 0.001):\n",
    "        if (abs(loss_arr_m3[-1] - loss_arr_m3[-2]) < 1.0e-05) and (abs(loss_arr_m3[-2] - loss_arr_m3[-3]) < 1.0e-05):\n",
    "            m3_convergence = True\n",
    "            print('Model Converged: Loss difference in the last three epochs is less than 1.0e-05')\n",
    "\n",
    "print('\\nModel Training completed\\n')\n",
    "print('Epoch: {}/{},  Loss Model 3: {}'.format(epoch_m3, max_epochs, l_m3))"
   ]
  },
  {
   "cell_type": "markdown",
   "metadata": {
    "id": "B3_V24jXdrfA"
   },
   "source": [
    "### <font color= blue> Getting Results"
   ]
  },
  {
   "cell_type": "markdown",
   "metadata": {
    "id": "Ttuqy-cxdrfB"
   },
   "source": [
    "### <font color= red> Training Losses vs Epochs Plot"
   ]
  },
  {
   "cell_type": "code",
   "execution_count": 32,
   "metadata": {
    "colab": {
     "base_uri": "https://localhost:8080/",
     "height": 279
    },
    "id": "d7TPqIr_drfB",
    "outputId": "19d55855-794a-4df7-92b8-879bba2c8532"
   },
   "outputs": [
    {
     "data": {
      "image/png": "[encoded data removed]",
      "text/plain": [
       "<Figure size 432x288 with 1 Axes>"
      ]
     },
     "metadata": {
      "needs_background": "light",
      "tags": []
     },
     "output_type": "display_data"
    }
   ],
   "source": [
    "plt.cla()\n",
    "plt.plot(epoch_arr_m1, loss_arr_m1, 'r', label=\"Model 1 Total Epoch: {}\".format(epoch_m1))\n",
    "plt.plot(epoch_arr_m2, loss_arr_m2, 'g', label=\"Model 2 Total Epoch: {}\".format(epoch_m2))\n",
    "plt.plot(epoch_arr_m3, loss_arr_m3, 'b', label=\"Model 3 Total Epoch: {}\".format(epoch_m3))\n",
    "plt.xlabel('Epoch')\n",
    "plt.ylabel('Loss')\n",
    "plt.legend()\n",
    "plt.show()"
   ]
  },
  {
   "cell_type": "markdown",
   "metadata": {
    "id": "dSxVO0QndrfC"
   },
   "source": [
    "### <font color= red> Models Prediction and Ground-Truth Plot"
   ]
  },
  {
   "cell_type": "code",
   "execution_count": 33,
   "metadata": {
    "colab": {
     "base_uri": "https://localhost:8080/",
     "height": 281
    },
    "id": "yRl-8ALidrfC",
    "outputId": "91dfcc5f-08af-4b2b-d1f1-1a5c44cc755e"
   },
   "outputs": [
    {
     "data": {
      "image/png": "[encoded data removed]",
      "text/plain": [
       "<Figure size 432x288 with 1 Axes>"
      ]
     },
     "metadata": {
      "needs_background": "light",
      "tags": []
     },
     "output_type": "display_data"
    }
   ],
   "source": [
    "plt.plot(x, pred_m1, 'r', label='Model 1')\n",
    "plt.plot(x, pred_m2, 'g', label='Model 2')\n",
    "plt.plot(x, pred_m3, 'b', Label='Model 3')\n",
    "plt.plot(x,y, 'black', label='True Value')\n",
    "plt.title('Different Models Prediction')\n",
    "plt.legend()\n",
    "plt.show()"
   ]
  },
  {
   "cell_type": "markdown",
   "metadata": {
    "id": "4mexx21XdrfC"
   },
   "source": [
    "### <font color= red> Gradient Norm and Loss vs Iteration"
   ]
  },
  {
   "cell_type": "code",
   "execution_count": 34,
   "metadata": {
    "colab": {
     "base_uri": "https://localhost:8080/",
     "height": 308
    },
    "id": "-EOOYMcpdrfD",
    "outputId": "084d37ab-a651-4baf-990e-c702cebb993f"
   },
   "outputs": [
    {
     "data": {
      "image/png": "[encoded data removed]",
      "text/plain": [
       "<Figure size 432x288 with 2 Axes>"
      ]
     },
     "metadata": {
      "needs_background": "light",
      "tags": []
     },
     "output_type": "display_data"
    }
   ],
   "source": [
    "iteration_arr = np.array(iteration_arr) * n\n",
    "fig, (ax1, ax2) = plt.subplots(2, sharex=True)\n",
    "fig.suptitle('Model 1')\n",
    "ax1.plot(iteration_arr, grad_arr_m1, 'r')\n",
    "ax2.plot(iteration_arr, loss_itr_arr, 'b')\n",
    "plt.xlabel('Iteration')\n",
    "ax1.set_ylabel('Gradient')\n",
    "ax2.set_ylabel('Loss')\n",
    "plt.show()"
   ]
  },
  {
   "cell_type": "code",
   "execution_count": 34,
   "metadata": {
    "id": "Cpw6DfzBdrfD"
   },
   "outputs": [],
   "source": []
  }
 ],
 "metadata": {
  "accelerator": "GPU",
  "colab": {
   "name": "HW01_Simulation_F1.ipynb",
   "provenance": []
  },
  "kernelspec": {
   "display_name": "Python 3",
   "language": "python",
   "name": "python3"
  },
  "language_info": {
   "codemirror_mode": {
    "name": "ipython",
    "version": 3
   },
   "file_extension": ".py",
   "mimetype": "text/x-python",
   "name": "python",
   "nbconvert_exporter": "python",
   "pygments_lexer": "ipython3",
   "version": "3.7.4"
  }
 },
 "nbformat": 4,
 "nbformat_minor": 1
}

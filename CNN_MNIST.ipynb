{
  "nbformat": 4,
  "nbformat_minor": 0,
  "metadata": {
    "kernelspec": {
      "display_name": "Python 3",
      "language": "python",
      "name": "python3"
    },
    "language_info": {
      "codemirror_mode": {
        "name": "ipython",
        "version": 3
      },
      "file_extension": ".py",
      "mimetype": "text/x-python",
      "name": "python",
      "nbconvert_exporter": "python",
      "pygments_lexer": "ipython3",
      "version": "3.7.4"
    },
    "colab": {
      "name": "CNN_MNIST.ipynb",
      "provenance": [],
      "collapsed_sections": []
    },
    "accelerator": "GPU"
  },
  "cells": [
    {
      "cell_type": "markdown",
      "metadata": {
        "id": "5NfOg3dT4iYY"
      },
      "source": [
        "# <center><font color= blue>Homework 01 - Due Feb 14 </font></center>\n",
        "## <font color= blue>CPSC8430 - Deep Learning </font>\n",
        "##  <font color= blue>Sadegh Sadeghi Tabas</font> \n",
        "###  <font color= red>Implementation of CNN for MNIST dataset</font> \n",
        "***"
      ]
    },
    {
      "cell_type": "markdown",
      "metadata": {
        "id": "zz2Y0CHR4iYa"
      },
      "source": [
        "#### <font color= green> import required libraries"
      ]
    },
    {
      "cell_type": "code",
      "metadata": {
        "colab": {
          "base_uri": "https://localhost:8080/"
        },
        "id": "_LIpUGMp4iYb",
        "outputId": "598828e7-558f-4c44-ddca-11d224f310c5"
      },
      "source": [
        "%tensorflow_version 1.x\n",
        "\n",
        "import tensorflow as tf\n",
        "import numpy as np\n",
        "import matplotlib.pyplot as plt\n",
        "from tensorflow.examples.tutorials.mnist import input_data\n",
        "device_name = tf.test.gpu_device_name()\n",
        "if device_name != '/device:GPU:0':\n",
        "  raise SystemError('GPU device not found')\n",
        "print('Found GPU at: {}'.format(device_name))"
      ],
      "execution_count": 1,
      "outputs": [
        {
          "output_type": "stream",
          "text": [
            "TensorFlow 1.x selected.\n",
            "Found GPU at: /device:GPU:0\n"
          ],
          "name": "stdout"
        }
      ]
    },
    {
      "cell_type": "markdown",
      "metadata": {
        "id": "SwzyQ0zP4iYc"
      },
      "source": [
        "#### <font color= green> Please check out the libraries veirsion that are compatible with this code"
      ]
    },
    {
      "cell_type": "code",
      "metadata": {
        "colab": {
          "base_uri": "https://localhost:8080/"
        },
        "id": "M6ZpItXd4iYc",
        "outputId": "f0a13ae2-a6a5-4559-9865-81ea4a0b901d"
      },
      "source": [
        "print(\"trnsorflow version=\",tf.__version__)\n",
        "print(\"numpy version=\",np.__version__)"
      ],
      "execution_count": 2,
      "outputs": [
        {
          "output_type": "stream",
          "text": [
            "trnsorflow version= 1.15.2\n",
            "numpy version= 1.19.5\n"
          ],
          "name": "stdout"
        }
      ]
    },
    {
      "cell_type": "markdown",
      "metadata": {
        "id": "BZ676Xz-4iYd"
      },
      "source": [
        "####  <font color= green> Here we are going to set random seed to have reproducible results"
      ]
    },
    {
      "cell_type": "code",
      "metadata": {
        "id": "gr-y3kLT4iYd"
      },
      "source": [
        "tf.set_random_seed(1)\n",
        "np.random.seed(1)"
      ],
      "execution_count": 3,
      "outputs": []
    },
    {
      "cell_type": "markdown",
      "metadata": {
        "id": "HGP7ejt64iYd"
      },
      "source": [
        "####  <font color= green> Data prepration: Check if the MNIST dataset is correctly loaded"
      ]
    },
    {
      "cell_type": "code",
      "metadata": {
        "colab": {
          "base_uri": "https://localhost:8080/",
          "height": 1000
        },
        "id": "jDq8HNDa4iYe",
        "outputId": "5849a854-be1e-4fd7-859a-c66486957757"
      },
      "source": [
        "mnist = input_data.read_data_sets('MNIST_data', one_hot=True)\n",
        "data = mnist.train.next_batch(3)\n",
        "images = data[0]\n",
        "labels = data[1]\n",
        "print(\"-----------------------------------------------------\")\n",
        "print(\"Train-set size:\\t\\t{}\".format(len(mnist.train.labels)))\n",
        "print(\"Validation-set size:\\t{}\".format(len(mnist.validation.labels)))\n",
        "print(\"Test-set size:\\t\\t{}\".format(len(mnist.test.labels)))\n",
        "for index, image in enumerate(images):\n",
        "    print(\"-----------------------------------------------------\")\n",
        "    print( 'Label:', labels[index])\n",
        "    print( 'Number in the image =', np.argmax(labels[index]))\n",
        "    plt.imshow(image.reshape(28,28))\n",
        "    plt.show()"
      ],
      "execution_count": 4,
      "outputs": [
        {
          "output_type": "stream",
          "text": [
            "WARNING:tensorflow:From <ipython-input-4-712cf39759f4>:1: read_data_sets (from tensorflow.contrib.learn.python.learn.datasets.mnist) is deprecated and will be removed in a future version.\n",
            "Instructions for updating:\n",
            "Please use alternatives such as official/mnist/dataset.py from tensorflow/models.\n",
            "WARNING:tensorflow:From /tensorflow-1.15.2/python3.6/tensorflow_core/contrib/learn/python/learn/datasets/mnist.py:260: maybe_download (from tensorflow.contrib.learn.python.learn.datasets.base) is deprecated and will be removed in a future version.\n",
            "Instructions for updating:\n",
            "Please write your own downloading logic.\n",
            "WARNING:tensorflow:From /tensorflow-1.15.2/python3.6/tensorflow_core/contrib/learn/python/learn/datasets/mnist.py:262: extract_images (from tensorflow.contrib.learn.python.learn.datasets.mnist) is deprecated and will be removed in a future version.\n",
            "Instructions for updating:\n",
            "Please use tf.data to implement this functionality.\n",
            "Extracting MNIST_data/train-images-idx3-ubyte.gz\n",
            "WARNING:tensorflow:From /tensorflow-1.15.2/python3.6/tensorflow_core/contrib/learn/python/learn/datasets/mnist.py:267: extract_labels (from tensorflow.contrib.learn.python.learn.datasets.mnist) is deprecated and will be removed in a future version.\n",
            "Instructions for updating:\n",
            "Please use tf.data to implement this functionality.\n",
            "Extracting MNIST_data/train-labels-idx1-ubyte.gz\n",
            "WARNING:tensorflow:From /tensorflow-1.15.2/python3.6/tensorflow_core/contrib/learn/python/learn/datasets/mnist.py:110: dense_to_one_hot (from tensorflow.contrib.learn.python.learn.datasets.mnist) is deprecated and will be removed in a future version.\n",
            "Instructions for updating:\n",
            "Please use tf.one_hot on tensors.\n",
            "Extracting MNIST_data/t10k-images-idx3-ubyte.gz\n",
            "Extracting MNIST_data/t10k-labels-idx1-ubyte.gz\n",
            "WARNING:tensorflow:From /tensorflow-1.15.2/python3.6/tensorflow_core/contrib/learn/python/learn/datasets/mnist.py:290: DataSet.__init__ (from tensorflow.contrib.learn.python.learn.datasets.mnist) is deprecated and will be removed in a future version.\n",
            "Instructions for updating:\n",
            "Please use alternatives such as official/mnist/dataset.py from tensorflow/models.\n",
            "-----------------------------------------------------\n",
            "Train-set size:\t\t55000\n",
            "Validation-set size:\t5000\n",
            "Test-set size:\t\t10000\n",
            "-----------------------------------------------------\n",
            "Label: [0. 0. 0. 0. 0. 0. 0. 0. 0. 1.]\n",
            "Number in the image = 9\n"
          ],
          "name": "stdout"
        },
        {
          "output_type": "display_data",
          "data": {
            "image/png": "[encoded data removed]",
            "text/plain": [
              "<Figure size 432x288 with 1 Axes>"
            ]
          },
          "metadata": {
            "tags": [],
            "needs_background": "light"
          }
        },
        {
          "output_type": "stream",
          "text": [
            "-----------------------------------------------------\n",
            "Label: [0. 0. 0. 0. 0. 0. 0. 0. 0. 1.]\n",
            "Number in the image = 9\n"
          ],
          "name": "stdout"
        },
        {
          "output_type": "display_data",
          "data": {
            "image/png": "[encoded data removed]",
            "text/plain": [
              "<Figure size 432x288 with 1 Axes>"
            ]
          },
          "metadata": {
            "tags": [],
            "needs_background": "light"
          }
        },
        {
          "output_type": "stream",
          "text": [
            "-----------------------------------------------------\n",
            "Label: [0. 0. 0. 0. 0. 0. 0. 1. 0. 0.]\n",
            "Number in the image = 7\n"
          ],
          "name": "stdout"
        },
        {
          "output_type": "display_data",
          "data": {
            "image/png": "[encoded data removed]",
            "text/plain": [
              "<Figure size 432x288 with 1 Axes>"
            ]
          },
          "metadata": {
            "tags": [],
            "needs_background": "light"
          }
        }
      ]
    },
    {
      "cell_type": "markdown",
      "metadata": {
        "id": "FqmNQ0Q44iYe"
      },
      "source": [
        "#### <font color= green> Now we are going to create __Place Holders__ for input and output (input with 28x28 pixels = 784; output with 10 digits)"
      ]
    },
    {
      "cell_type": "code",
      "metadata": {
        "colab": {
          "base_uri": "https://localhost:8080/"
        },
        "id": "Qw_Y3ITF4iYe",
        "outputId": "066d4afb-ab65-4b6e-fccf-2ac6a009ac0e"
      },
      "source": [
        "x = tf.placeholder(tf.float32, shape=[None, 784])\n",
        "y = tf.placeholder(tf.float32, shape=[None, 10])\n",
        "input_tensor = tf.reshape(x, [-1,28,28,1]) # Reshaping to be compatible with tensorflow pooling functions\n",
        "y_true_cls = tf.argmax(y, dimension=1)\n",
        "keep_prob = tf.placeholder(tf.float32)"
      ],
      "execution_count": 5,
      "outputs": [
        {
          "output_type": "stream",
          "text": [
            "WARNING:tensorflow:From <ipython-input-5-5ec2466394ea>:4: calling argmax (from tensorflow.python.ops.math_ops) with dimension is deprecated and will be removed in a future version.\n",
            "Instructions for updating:\n",
            "Use the `axis` argument instead\n"
          ],
          "name": "stdout"
        }
      ]
    },
    {
      "cell_type": "markdown",
      "metadata": {
        "id": "1smlCIKG4iYf"
      },
      "source": [
        "#### <font color= green> Function to create convolution layer"
      ]
    },
    {
      "cell_type": "code",
      "metadata": {
        "id": "d0Q8U6Lw4iYf"
      },
      "source": [
        "def ConvLayer(input_tensor, numInputChannels, numFilters, kernel, stride, name):\n",
        "\n",
        "    # define the input shape filter for tf.nn.conv2d \n",
        "    convFilterShape = [kernel[0], kernel[1], numInputChannels, numFilters]\n",
        "\n",
        "    # define the weights\n",
        "    weight = tf.get_variable(initializer=tf.random_normal(convFilterShape, stddev=0.0999), name=name+'/weight')\n",
        "    \n",
        "    # define the bias\n",
        "    bias = tf.get_variable(shape=[numFilters],initializer=tf.constant_initializer(0.1), name=name+'/bias')\n",
        "\n",
        "    # convolution layer setup\n",
        "    con = tf.nn.conv2d(input_tensor, weight, strides=[1, 1, 1, 1], padding='SAME')\n",
        "    \n",
        "    # define ReLU activation operation\n",
        "    activation = tf.nn.relu(tf.nn.bias_add(con, bias))\n",
        "\n",
        "    # performing max pooling on activation\n",
        "    activation = tf.nn.max_pool(value=activation,\n",
        "                                ksize=[1, 2, 2, 1],\n",
        "                                strides=[1, 2, 2, 1],\n",
        "                                padding='SAME')\n",
        "    \n",
        "    return activation"
      ],
      "execution_count": 6,
      "outputs": []
    },
    {
      "cell_type": "markdown",
      "metadata": {
        "id": "05etuHAO4iYf"
      },
      "source": [
        "#### <font color= green> Function for flattening (producing 1D array)"
      ]
    },
    {
      "cell_type": "code",
      "metadata": {
        "id": "XG-YZUyM4iYf"
      },
      "source": [
        "def flatten(x):    \n",
        "    \n",
        "    input_shape=x.get_shape()\n",
        "    flatNum = 1\n",
        "    for index in range(len(input_shape)-1):\n",
        "        flatNum *= input_shape[1-len(input_shape)+index].value\n",
        "    x = tf.reshape(x, [-1,flatNum])\n",
        "\n",
        "    print('flatten: {}'.format(x.get_shape()))\n",
        "    \n",
        "    return x"
      ],
      "execution_count": 7,
      "outputs": []
    },
    {
      "cell_type": "markdown",
      "metadata": {
        "id": "bIJwAfNM4iYg"
      },
      "source": [
        "#### <font color= green> Function to create fully connected layer"
      ]
    },
    {
      "cell_type": "code",
      "metadata": {
        "id": "Ct_EMJTw4iYg"
      },
      "source": [
        "def fcLayer(x, num_output, activationFun=None, name=None):\n",
        "\n",
        "    # define the weights\n",
        "    weight = tf.get_variable(initializer=tf.random_normal([x.get_shape()[-1].value, num_output], stddev=0.0999), name=name+'/weight')\n",
        "\n",
        "    # define the bias\n",
        "    bias = tf.get_variable(shape=[num_output],initializer=tf.constant_initializer(0.1), name=name+'/bias')\n",
        "    \n",
        "    # calc sum of neurons\n",
        "    sum = tf.matmul(x,weight) + bias\n",
        "        \n",
        "    # apply activation function if required\n",
        "    if activationFun:\n",
        "        sum = activationFun(sum)\n",
        "\n",
        "    return sum"
      ],
      "execution_count": 8,
      "outputs": []
    },
    {
      "cell_type": "markdown",
      "metadata": {
        "id": "3QPPA5ZU4iYg"
      },
      "source": [
        "#### <font color= green> Define the Network"
      ]
    },
    {
      "cell_type": "code",
      "metadata": {
        "colab": {
          "base_uri": "https://localhost:8080/"
        },
        "id": "Hi2iZhCu4iYg",
        "outputId": "9b022271-fdf8-4623-b6f5-ac476981524c"
      },
      "source": [
        "convLayer1 = ConvLayer(input_tensor, 1, 36, [5, 5], [2, 2], name='convLayer1')\n",
        "convLayer2 = ConvLayer(convLayer1, 36, 36, [5,5], [2,2],name='convLayer2')\n",
        "convLayer3 = ConvLayer(convLayer2, 36, 36, [5,5], [2,2],name='convLayer3')\n",
        "dropout1 = tf.nn.dropout(convLayer3, 0.75)\n",
        "flatten_out = flatten(dropout1)\n",
        "denseLayer1 = fcLayer(flatten_out, 576, tf.nn.relu, name='denseLayer1')\n",
        "dropout2 = tf.nn.dropout(denseLayer1, 0.75)\n",
        "out = fcLayer(dropout2, 10, name='denseLayer2')\n",
        "y_pred = tf.nn.softmax(logits=out)\n",
        "y_pred_cls = tf.argmax(y_pred, dimension=1)"
      ],
      "execution_count": 9,
      "outputs": [
        {
          "output_type": "stream",
          "text": [
            "WARNING:tensorflow:From <ipython-input-9-ee7d3d4efc7c>:4: calling dropout (from tensorflow.python.ops.nn_ops) with keep_prob is deprecated and will be removed in a future version.\n",
            "Instructions for updating:\n",
            "Please use `rate` instead of `keep_prob`. Rate should be set to `rate = 1 - keep_prob`.\n",
            "flatten: (?, 576)\n"
          ],
          "name": "stdout"
        }
      ]
    },
    {
      "cell_type": "markdown",
      "metadata": {
        "id": "Lu_knorJ4iYh"
      },
      "source": [
        "#### <font color= green> Counting Number of Parameters"
      ]
    },
    {
      "cell_type": "code",
      "metadata": {
        "colab": {
          "base_uri": "https://localhost:8080/"
        },
        "id": "5XjtNS-n4iYh",
        "outputId": "b87d3de9-a1e0-474c-854d-b3aab8a69b32"
      },
      "source": [
        "params_num = 0\n",
        "for var in tf.trainable_variables():\n",
        "    shape = var.get_shape()\n",
        "    varParamsNum = 1\n",
        "    for dim in shape:\n",
        "        varParamsNum *= dim.value\n",
        "    print(varParamsNum)\n",
        "    params_num += varParamsNum\n",
        "print(params_num)"
      ],
      "execution_count": 10,
      "outputs": [
        {
          "output_type": "stream",
          "text": [
            "900\n",
            "36\n",
            "32400\n",
            "36\n",
            "32400\n",
            "36\n",
            "331776\n",
            "576\n",
            "5760\n",
            "10\n",
            "403930\n"
          ],
          "name": "stdout"
        }
      ]
    },
    {
      "cell_type": "markdown",
      "metadata": {
        "id": "hw50TCNA4iYh"
      },
      "source": [
        "#### <font color= green>  Define loss "
      ]
    },
    {
      "cell_type": "code",
      "metadata": {
        "colab": {
          "base_uri": "https://localhost:8080/"
        },
        "id": "UN4cL-wk4iYh",
        "outputId": "10b4a0c7-a3ec-427e-9173-a5f2f35557c0"
      },
      "source": [
        "cross_entropy = tf.nn.softmax_cross_entropy_with_logits(labels=y, logits=out)\n",
        "loss = tf.reduce_mean(cross_entropy)"
      ],
      "execution_count": 11,
      "outputs": [
        {
          "output_type": "stream",
          "text": [
            "WARNING:tensorflow:From <ipython-input-11-15b891cca9b2>:1: softmax_cross_entropy_with_logits (from tensorflow.python.ops.nn_ops) is deprecated and will be removed in a future version.\n",
            "Instructions for updating:\n",
            "\n",
            "Future major versions of TensorFlow will allow gradients to flow\n",
            "into the labels input on backprop by default.\n",
            "\n",
            "See `tf.nn.softmax_cross_entropy_with_logits_v2`.\n",
            "\n"
          ],
          "name": "stdout"
        }
      ]
    },
    {
      "cell_type": "markdown",
      "metadata": {
        "id": "ALUqgTtO4iYi"
      },
      "source": [
        "#### <font color= green> Define optimizer"
      ]
    },
    {
      "cell_type": "code",
      "metadata": {
        "id": "E1NoWb4i4iYi"
      },
      "source": [
        "opt = tf.train.AdamOptimizer(learning_rate=0.0001)\n",
        "optimizer = opt.minimize(loss)"
      ],
      "execution_count": 12,
      "outputs": []
    },
    {
      "cell_type": "markdown",
      "metadata": {
        "id": "U00jIJDl4iYi"
      },
      "source": [
        "#### <font color= green> Defining accuracy"
      ]
    },
    {
      "cell_type": "code",
      "metadata": {
        "id": "FQkRz69M4iYi"
      },
      "source": [
        "correct_pred = tf.equal(y_pred_cls, y_true_cls)\n",
        "accuracy = tf.reduce_mean(tf.cast(correct_pred, tf.float32))"
      ],
      "execution_count": 13,
      "outputs": []
    },
    {
      "cell_type": "markdown",
      "metadata": {
        "id": "U8WmGF3D4iYj"
      },
      "source": [
        "#### <font color= green> Function for getting weights from the network"
      ]
    },
    {
      "cell_type": "code",
      "metadata": {
        "id": "CiU_OCwD4iYj"
      },
      "source": [
        "def getWeights(layer_name):\n",
        "    with tf.variable_scope(layer_name, reuse=True):\n",
        "        variable = tf.get_variable('weight')\n",
        "    return variable"
      ],
      "execution_count": 14,
      "outputs": []
    },
    {
      "cell_type": "markdown",
      "metadata": {
        "id": "lHIc20wg4iYj"
      },
      "source": [
        "#### <font color= green> Getting the weights"
      ]
    },
    {
      "cell_type": "code",
      "metadata": {
        "id": "Dz-0COm-4iYj"
      },
      "source": [
        "weights_conv1 = getWeights(layer_name='convLayer1')\n",
        "weights_conv2 = getWeights(layer_name='convLayer2')\n",
        "weights_denseLayer1 = getWeights(layer_name='denseLayer1')\n",
        "weights_out = getWeights(layer_name='denseLayer2')"
      ],
      "execution_count": 15,
      "outputs": []
    },
    {
      "cell_type": "markdown",
      "metadata": {
        "id": "RI90Ly5B4iYk"
      },
      "source": [
        "#### <font color= green>Creating a Tensorflow session"
      ]
    },
    {
      "cell_type": "code",
      "metadata": {
        "id": "E5rzYUp54iYk"
      },
      "source": [
        "sess = tf.Session()"
      ],
      "execution_count": 16,
      "outputs": []
    },
    {
      "cell_type": "markdown",
      "metadata": {
        "id": "i4wZsQce4iYk"
      },
      "source": [
        "#### <font color= green>Initializing the variables"
      ]
    },
    {
      "cell_type": "code",
      "metadata": {
        "id": "n6UeSAdZ4iYk"
      },
      "source": [
        "sess.run(tf.global_variables_initializer())"
      ],
      "execution_count": 17,
      "outputs": []
    },
    {
      "cell_type": "markdown",
      "metadata": {
        "id": "nOCvxV_x4iYl"
      },
      "source": [
        "#### <font color= green> Training the network"
      ]
    },
    {
      "cell_type": "code",
      "metadata": {
        "colab": {
          "base_uri": "https://localhost:8080/"
        },
        "id": "MYRjJePQ4iYl",
        "outputId": "11f717bb-ee3a-4b58-af50-80141235248f"
      },
      "source": [
        "max_epochs=8\n",
        "batch_size = 64\n",
        "total_batch_size = int(len(mnist.train.labels) / batch_size)\n",
        "grad_arr, iteration_arr, train_loss_arr, train_accuracy_arr = [], [], [], []\n",
        "global iteration_ctr\n",
        "iteration_ctr = 0\n",
        "\n",
        "for epoch in range(max_epochs):\n",
        "\n",
        "    print('epoch: {}/{}'.format(epoch+1,max_epochs))\n",
        "\n",
        "    for batch_ctr in range(total_batch_size):\n",
        "\n",
        "        # Fetching a batch size of 64 images\n",
        "        x_batch, y_true_batch = mnist.train.next_batch(batch_size)\n",
        "\n",
        "        feed_dict_train = {x: x_batch, y: y_true_batch}\n",
        "\n",
        "        # run training for each iteration\n",
        "        sess.run(optimizer, feed_dict={x: x_batch, y: y_true_batch, keep_prob: 0.5})\n",
        "\n",
        "        # Every 10 steps, compute the loss and accuracy of training\n",
        "        if batch_ctr % 10 == 0:\n",
        "            train_loss, train_accuracy = sess.run([loss, accuracy], feed_dict=feed_dict_train)\n",
        "            train_accuracy_arr.append(train_accuracy)\n",
        "            train_loss_arr.append(train_loss)\n",
        "            iteration_ctr +=1\n",
        "            iteration_arr.append(iteration_ctr)\n",
        "      \n",
        "            # Every 100 steps, print the loss and accuracy of training\n",
        "            if batch_ctr % 100 == 0:\n",
        "                print('Iteration {:>6}   Training Loss {:>1.4}  Training Accuracy {:>6.1%}'.format(batch_ctr+1, train_loss, train_accuracy))\n",
        "\n",
        "print('Iteration {:>6} Training Loss {:>1.6} Training Accuracy {:>6.1%}'.format(batch_ctr+1, train_loss, train_accuracy))\n"
      ],
      "execution_count": 18,
      "outputs": [
        {
          "output_type": "stream",
          "text": [
            "epoch: 1/8\n",
            "Iteration      1   Training Loss 8.903  Training Accuracy  20.3%\n",
            "Iteration    101   Training Loss 1.978  Training Accuracy  31.2%\n",
            "Iteration    201   Training Loss 0.9487  Training Accuracy  68.8%\n",
            "Iteration    301   Training Loss 0.7444  Training Accuracy  78.1%\n",
            "Iteration    401   Training Loss 0.7245  Training Accuracy  73.4%\n",
            "Iteration    501   Training Loss 0.4258  Training Accuracy  84.4%\n",
            "Iteration    601   Training Loss 0.4489  Training Accuracy  85.9%\n",
            "Iteration    701   Training Loss 0.3229  Training Accuracy  85.9%\n",
            "Iteration    801   Training Loss 0.2867  Training Accuracy  92.2%\n",
            "epoch: 2/8\n",
            "Iteration      1   Training Loss 0.2473  Training Accuracy  95.3%\n",
            "Iteration    101   Training Loss 0.4522  Training Accuracy  87.5%\n",
            "Iteration    201   Training Loss 0.1688  Training Accuracy  96.9%\n",
            "Iteration    301   Training Loss 0.2235  Training Accuracy  95.3%\n",
            "Iteration    401   Training Loss 0.1924  Training Accuracy  92.2%\n",
            "Iteration    501   Training Loss 0.2394  Training Accuracy  90.6%\n",
            "Iteration    601   Training Loss 0.1526  Training Accuracy  95.3%\n",
            "Iteration    701   Training Loss 0.1447  Training Accuracy  96.9%\n",
            "Iteration    801   Training Loss 0.1333  Training Accuracy  95.3%\n",
            "epoch: 3/8\n",
            "Iteration      1   Training Loss 0.08321  Training Accuracy  98.4%\n",
            "Iteration    101   Training Loss 0.2824  Training Accuracy  89.1%\n",
            "Iteration    201   Training Loss 0.0566  Training Accuracy  98.4%\n",
            "Iteration    301   Training Loss 0.2762  Training Accuracy  93.8%\n",
            "Iteration    401   Training Loss 0.2022  Training Accuracy  93.8%\n",
            "Iteration    501   Training Loss 0.08314  Training Accuracy  96.9%\n",
            "Iteration    601   Training Loss 0.1385  Training Accuracy  95.3%\n",
            "Iteration    701   Training Loss 0.08749  Training Accuracy  96.9%\n",
            "Iteration    801   Training Loss 0.1338  Training Accuracy  95.3%\n",
            "epoch: 4/8\n",
            "Iteration      1   Training Loss 0.1016  Training Accuracy  93.8%\n",
            "Iteration    101   Training Loss 0.04842  Training Accuracy 100.0%\n",
            "Iteration    201   Training Loss 0.1214  Training Accuracy  96.9%\n",
            "Iteration    301   Training Loss 0.1295  Training Accuracy  96.9%\n",
            "Iteration    401   Training Loss 0.03997  Training Accuracy 100.0%\n",
            "Iteration    501   Training Loss 0.129  Training Accuracy  96.9%\n",
            "Iteration    601   Training Loss 0.03065  Training Accuracy 100.0%\n",
            "Iteration    701   Training Loss 0.02948  Training Accuracy  98.4%\n",
            "Iteration    801   Training Loss 0.2301  Training Accuracy  93.8%\n",
            "epoch: 5/8\n",
            "Iteration      1   Training Loss 0.1052  Training Accuracy  96.9%\n",
            "Iteration    101   Training Loss 0.1434  Training Accuracy  95.3%\n",
            "Iteration    201   Training Loss 0.05376  Training Accuracy  98.4%\n",
            "Iteration    301   Training Loss 0.1791  Training Accuracy  93.8%\n",
            "Iteration    401   Training Loss 0.06356  Training Accuracy  98.4%\n",
            "Iteration    501   Training Loss 0.1466  Training Accuracy  95.3%\n",
            "Iteration    601   Training Loss 0.01585  Training Accuracy 100.0%\n",
            "Iteration    701   Training Loss 0.05442  Training Accuracy  98.4%\n",
            "Iteration    801   Training Loss 0.09405  Training Accuracy  96.9%\n",
            "epoch: 6/8\n",
            "Iteration      1   Training Loss 0.2667  Training Accuracy  93.8%\n",
            "Iteration    101   Training Loss 0.06848  Training Accuracy  98.4%\n",
            "Iteration    201   Training Loss 0.03302  Training Accuracy  98.4%\n",
            "Iteration    301   Training Loss 0.1205  Training Accuracy  96.9%\n",
            "Iteration    401   Training Loss 0.07902  Training Accuracy  96.9%\n",
            "Iteration    501   Training Loss 0.07147  Training Accuracy  96.9%\n",
            "Iteration    601   Training Loss 0.112  Training Accuracy  95.3%\n",
            "Iteration    701   Training Loss 0.02715  Training Accuracy  98.4%\n",
            "Iteration    801   Training Loss 0.0383  Training Accuracy  98.4%\n",
            "epoch: 7/8\n",
            "Iteration      1   Training Loss 0.02958  Training Accuracy  98.4%\n",
            "Iteration    101   Training Loss 0.06156  Training Accuracy  98.4%\n",
            "Iteration    201   Training Loss 0.005851  Training Accuracy 100.0%\n",
            "Iteration    301   Training Loss 0.004666  Training Accuracy 100.0%\n",
            "Iteration    401   Training Loss 0.09375  Training Accuracy  98.4%\n",
            "Iteration    501   Training Loss 0.1592  Training Accuracy  93.8%\n",
            "Iteration    601   Training Loss 0.01757  Training Accuracy 100.0%\n",
            "Iteration    701   Training Loss 0.06606  Training Accuracy  98.4%\n",
            "Iteration    801   Training Loss 0.08203  Training Accuracy  95.3%\n",
            "epoch: 8/8\n",
            "Iteration      1   Training Loss 0.06853  Training Accuracy  98.4%\n",
            "Iteration    101   Training Loss 0.08495  Training Accuracy  95.3%\n",
            "Iteration    201   Training Loss 0.06649  Training Accuracy  98.4%\n",
            "Iteration    301   Training Loss 0.02443  Training Accuracy  98.4%\n",
            "Iteration    401   Training Loss 0.01081  Training Accuracy 100.0%\n",
            "Iteration    501   Training Loss 0.1345  Training Accuracy  93.8%\n",
            "Iteration    601   Training Loss 0.01502  Training Accuracy 100.0%\n",
            "Iteration    701   Training Loss 0.03645  Training Accuracy  98.4%\n",
            "Iteration    801   Training Loss 0.05548  Training Accuracy  98.4%\n",
            "Iteration    859 Training Loss 0.0269626 Training Accuracy  98.4%\n"
          ],
          "name": "stdout"
        }
      ]
    },
    {
      "cell_type": "markdown",
      "metadata": {
        "id": "n7JAcFAj4iYl"
      },
      "source": [
        "#### <font color= green>Plotting graphs"
      ]
    },
    {
      "cell_type": "markdown",
      "metadata": {
        "id": "ZVamDEnQ4iYm"
      },
      "source": [
        "#### <font color= green>Training loss vs Iteration"
      ]
    },
    {
      "cell_type": "code",
      "metadata": {
        "colab": {
          "base_uri": "https://localhost:8080/",
          "height": 279
        },
        "id": "BpFlClYm4iYm",
        "outputId": "49d08349-d180-4585-8ebf-c88c88ef9fc1"
      },
      "source": [
        "iteration_arr = np.array(iteration_arr)\n",
        "iteration_arr = iteration_arr * 10\n",
        "\n",
        "plt.plot(iteration_arr, train_loss_arr, 'r', label = \"Training loss CNN\")\n",
        "plt.xlabel('Iteration')\n",
        "plt.ylabel('Training loss')\n",
        "plt.legend()\n",
        "plt.show()"
      ],
      "execution_count": 22,
      "outputs": [
        {
          "output_type": "display_data",
          "data": {
            "image/png": "[encoded data removed]",
            "text/plain": [
              "<Figure size 432x288 with 1 Axes>"
            ]
          },
          "metadata": {
            "tags": [],
            "needs_background": "light"
          }
        }
      ]
    },
    {
      "cell_type": "markdown",
      "metadata": {
        "id": "Wv0qsMnU4iYm"
      },
      "source": [
        "#### <font color= green>Training loss and accuracy vs Iterations"
      ]
    },
    {
      "cell_type": "code",
      "metadata": {
        "colab": {
          "base_uri": "https://localhost:8080/",
          "height": 308
        },
        "id": "M-vketou4iYm",
        "outputId": "e7d7baf9-6ce6-459c-a24b-a6295249d30c"
      },
      "source": [
        "fig, (ax1, ax2) = plt.subplots(2, sharex=True)\n",
        "fig.suptitle('Training history')\n",
        "ax1.plot(iteration_arr, train_loss_arr, 'r')\n",
        "ax2.plot(iteration_arr, train_accuracy_arr)\n",
        "plt.xlabel('Iterations')\n",
        "ax1.set_ylabel('Loss')\n",
        "ax2.set_ylabel('Accuracy')\n",
        "plt.show()"
      ],
      "execution_count": 20,
      "outputs": [
        {
          "output_type": "display_data",
          "data": {
            "image/png": "[encoded data removed]",
            "text/plain": [
              "<Figure size 432x288 with 2 Axes>"
            ]
          },
          "metadata": {
            "tags": [],
            "needs_background": "light"
          }
        }
      ]
    },
    {
      "cell_type": "markdown",
      "metadata": {
        "id": "-1EhRrnP4iYn"
      },
      "source": [
        "#### <font color= green>Testing accuracy on test data"
      ]
    },
    {
      "cell_type": "code",
      "metadata": {
        "colab": {
          "base_uri": "https://localhost:8080/"
        },
        "id": "t--IhoNI4iYn",
        "outputId": "cf527fd0-cc75-4517-caf1-0a967babb90e"
      },
      "source": [
        "mnist.test.cls = np.argmax(mnist.test.labels, axis=1)\n",
        "test_batch_size = 256\n",
        "numTestSamples = len(mnist.test.images)\n",
        "y_pred = np.zeros(shape=numTestSamples, dtype=np.int) # place holder for classes\n",
        "\n",
        "i = 0\n",
        "while i < numTestSamples:\n",
        "    j = min(i + test_batch_size, numTestSamples) # denotes the ending index for the next batch\n",
        "\n",
        "    # Get the images between index i and j\n",
        "    img = mnist.test.images[i:j, :]\n",
        "\n",
        "    # Get the associated labels\n",
        "    labels = mnist.test.labels[i:j, :]\n",
        "\n",
        "    # Create feed-dict\n",
        "    feed_dict = {x: img, y: labels}\n",
        "\n",
        "    # predict classes\n",
        "    y_pred[i:j] = sess.run(y_pred_cls, feed_dict=feed_dict)\n",
        "    i = j\n",
        "\n",
        "# calc accuracy\n",
        "y_true = mnist.test.cls\n",
        "correct = (y_true == y_pred)\n",
        "numCorrect = correct.sum()\n",
        "acc = float(numCorrect) / numTestSamples\n",
        "print(\"Accuracy on Test-Set: {0:.2%} ({1} / {2})\".format(acc, numCorrect, numTestSamples))\n"
      ],
      "execution_count": 21,
      "outputs": [
        {
          "output_type": "stream",
          "text": [
            "Accuracy on Test-Set: 98.23% (9823 / 10000)\n"
          ],
          "name": "stdout"
        }
      ]
    },
    {
      "cell_type": "code",
      "metadata": {
        "id": "blIqAZh34iYn"
      },
      "source": [
        ""
      ],
      "execution_count": 21,
      "outputs": []
    }
  ]
}